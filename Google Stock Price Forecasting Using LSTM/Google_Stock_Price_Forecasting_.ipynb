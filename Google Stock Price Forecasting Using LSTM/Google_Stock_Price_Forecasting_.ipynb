{
  "metadata": {
    "kernelspec": {
      "language": "python",
      "display_name": "Python 3",
      "name": "python3"
    },
    "language_info": {
      "pygments_lexer": "ipython3",
      "nbconvert_exporter": "python",
      "version": "3.6.4",
      "file_extension": ".py",
      "codemirror_mode": {
        "name": "ipython",
        "version": 3
      },
      "name": "python",
      "mimetype": "text/x-python"
    },
    "colab": {
      "provenance": []
    }
  },
  "nbformat_minor": 0,
  "nbformat": 4,
  "cells": [
    {
      "cell_type": "markdown",
      "source": [
        "# Google Stock Price Forecasting Using LSTM"
      ],
      "metadata": {
        "id": "WsooYvnmyAWZ"
      }
    },
    {
      "cell_type": "markdown",
      "source": [
        "## Library"
      ],
      "metadata": {
        "id": "OWh02QfYX0RO"
      }
    },
    {
      "cell_type": "code",
      "source": [
        "# Importing the libraries\n",
        "import matplotlib.pyplot as plt\n",
        "import datetime\n",
        "\n",
        "import numpy as np # linear algebra\n",
        "import pandas as pd # data processing,\n",
        "\n",
        "from sklearn.preprocessing import MinMaxScaler\n",
        "\n",
        "#Building the RNN\n",
        "#Importing the Keras libraries and packages\n",
        "import os\n",
        "import tensorflow as tf\n",
        "from keras.models import Sequential\n",
        "from keras.layers import Dense\n",
        "from keras.layers import LSTM\n",
        "from keras.layers import Dropout"
      ],
      "metadata": {
        "execution": {
          "iopub.status.busy": "2021-12-31T14:35:19.740367Z",
          "iopub.execute_input": "2021-12-31T14:35:19.741481Z",
          "iopub.status.idle": "2021-12-31T14:35:19.76359Z",
          "shell.execute_reply.started": "2021-12-31T14:35:19.741404Z",
          "shell.execute_reply": "2021-12-31T14:35:19.762935Z"
        },
        "trusted": true,
        "id": "LJ_8CnVKbaKv"
      },
      "execution_count": null,
      "outputs": []
    },
    {
      "cell_type": "code",
      "source": [
        "#dataset load \n",
        "dataset=pd.read_csv('Google_Stock_Price_Train.csv',index_col=\"Date\",parse_dates=True)"
      ],
      "metadata": {
        "execution": {
          "iopub.status.busy": "2021-12-31T14:35:19.764785Z",
          "iopub.execute_input": "2021-12-31T14:35:19.765829Z",
          "iopub.status.idle": "2021-12-31T14:35:19.862003Z",
          "shell.execute_reply.started": "2021-12-31T14:35:19.76575Z",
          "shell.execute_reply": "2021-12-31T14:35:19.861007Z"
        },
        "trusted": true,
        "id": "WBG9Ca6VbaKw"
      },
      "execution_count": null,
      "outputs": []
    },
    {
      "cell_type": "markdown",
      "source": [
        "##Explore Dataset"
      ],
      "metadata": {
        "id": "aPJdMEaXbxw7"
      }
    },
    {
      "cell_type": "code",
      "source": [
        "#view 5 rows from dataset\n",
        "dataset.head()"
      ],
      "metadata": {
        "execution": {
          "iopub.status.busy": "2021-12-31T14:35:19.863122Z",
          "iopub.execute_input": "2021-12-31T14:35:19.863367Z",
          "iopub.status.idle": "2021-12-31T14:35:19.8764Z",
          "shell.execute_reply.started": "2021-12-31T14:35:19.863339Z",
          "shell.execute_reply": "2021-12-31T14:35:19.87561Z"
        },
        "trusted": true,
        "id": "f-GV5MmSbaKy",
        "colab": {
          "base_uri": "https://localhost:8080/",
          "height": 238
        },
        "outputId": "ed06865d-2d92-4d8e-fe17-61360aebf516"
      },
      "execution_count": null,
      "outputs": [
        {
          "output_type": "execute_result",
          "data": {
            "text/plain": [
              "              Open    High     Low   Close      Volume\n",
              "Date                                                  \n",
              "2012-01-03  325.25  332.83  324.97  663.59   7,380,500\n",
              "2012-01-04  331.27  333.87  329.08  666.45   5,749,400\n",
              "2012-01-05  329.83  330.75  326.89  657.21   6,590,300\n",
              "2012-01-06  328.34  328.77  323.68  648.24   5,405,900\n",
              "2012-01-09  322.04  322.29  309.46  620.76  11,688,800"
            ],
            "text/html": [
              "\n",
              "  <div id=\"df-e9d83f3b-d50e-4dc4-a931-16d5b2064595\">\n",
              "    <div class=\"colab-df-container\">\n",
              "      <div>\n",
              "<style scoped>\n",
              "    .dataframe tbody tr th:only-of-type {\n",
              "        vertical-align: middle;\n",
              "    }\n",
              "\n",
              "    .dataframe tbody tr th {\n",
              "        vertical-align: top;\n",
              "    }\n",
              "\n",
              "    .dataframe thead th {\n",
              "        text-align: right;\n",
              "    }\n",
              "</style>\n",
              "<table border=\"1\" class=\"dataframe\">\n",
              "  <thead>\n",
              "    <tr style=\"text-align: right;\">\n",
              "      <th></th>\n",
              "      <th>Open</th>\n",
              "      <th>High</th>\n",
              "      <th>Low</th>\n",
              "      <th>Close</th>\n",
              "      <th>Volume</th>\n",
              "    </tr>\n",
              "    <tr>\n",
              "      <th>Date</th>\n",
              "      <th></th>\n",
              "      <th></th>\n",
              "      <th></th>\n",
              "      <th></th>\n",
              "      <th></th>\n",
              "    </tr>\n",
              "  </thead>\n",
              "  <tbody>\n",
              "    <tr>\n",
              "      <th>2012-01-03</th>\n",
              "      <td>325.25</td>\n",
              "      <td>332.83</td>\n",
              "      <td>324.97</td>\n",
              "      <td>663.59</td>\n",
              "      <td>7,380,500</td>\n",
              "    </tr>\n",
              "    <tr>\n",
              "      <th>2012-01-04</th>\n",
              "      <td>331.27</td>\n",
              "      <td>333.87</td>\n",
              "      <td>329.08</td>\n",
              "      <td>666.45</td>\n",
              "      <td>5,749,400</td>\n",
              "    </tr>\n",
              "    <tr>\n",
              "      <th>2012-01-05</th>\n",
              "      <td>329.83</td>\n",
              "      <td>330.75</td>\n",
              "      <td>326.89</td>\n",
              "      <td>657.21</td>\n",
              "      <td>6,590,300</td>\n",
              "    </tr>\n",
              "    <tr>\n",
              "      <th>2012-01-06</th>\n",
              "      <td>328.34</td>\n",
              "      <td>328.77</td>\n",
              "      <td>323.68</td>\n",
              "      <td>648.24</td>\n",
              "      <td>5,405,900</td>\n",
              "    </tr>\n",
              "    <tr>\n",
              "      <th>2012-01-09</th>\n",
              "      <td>322.04</td>\n",
              "      <td>322.29</td>\n",
              "      <td>309.46</td>\n",
              "      <td>620.76</td>\n",
              "      <td>11,688,800</td>\n",
              "    </tr>\n",
              "  </tbody>\n",
              "</table>\n",
              "</div>\n",
              "      <button class=\"colab-df-convert\" onclick=\"convertToInteractive('df-e9d83f3b-d50e-4dc4-a931-16d5b2064595')\"\n",
              "              title=\"Convert this dataframe to an interactive table.\"\n",
              "              style=\"display:none;\">\n",
              "        \n",
              "  <svg xmlns=\"http://www.w3.org/2000/svg\" height=\"24px\"viewBox=\"0 0 24 24\"\n",
              "       width=\"24px\">\n",
              "    <path d=\"M0 0h24v24H0V0z\" fill=\"none\"/>\n",
              "    <path d=\"M18.56 5.44l.94 2.06.94-2.06 2.06-.94-2.06-.94-.94-2.06-.94 2.06-2.06.94zm-11 1L8.5 8.5l.94-2.06 2.06-.94-2.06-.94L8.5 2.5l-.94 2.06-2.06.94zm10 10l.94 2.06.94-2.06 2.06-.94-2.06-.94-.94-2.06-.94 2.06-2.06.94z\"/><path d=\"M17.41 7.96l-1.37-1.37c-.4-.4-.92-.59-1.43-.59-.52 0-1.04.2-1.43.59L10.3 9.45l-7.72 7.72c-.78.78-.78 2.05 0 2.83L4 21.41c.39.39.9.59 1.41.59.51 0 1.02-.2 1.41-.59l7.78-7.78 2.81-2.81c.8-.78.8-2.07 0-2.86zM5.41 20L4 18.59l7.72-7.72 1.47 1.35L5.41 20z\"/>\n",
              "  </svg>\n",
              "      </button>\n",
              "      \n",
              "  <style>\n",
              "    .colab-df-container {\n",
              "      display:flex;\n",
              "      flex-wrap:wrap;\n",
              "      gap: 12px;\n",
              "    }\n",
              "\n",
              "    .colab-df-convert {\n",
              "      background-color: #E8F0FE;\n",
              "      border: none;\n",
              "      border-radius: 50%;\n",
              "      cursor: pointer;\n",
              "      display: none;\n",
              "      fill: #1967D2;\n",
              "      height: 32px;\n",
              "      padding: 0 0 0 0;\n",
              "      width: 32px;\n",
              "    }\n",
              "\n",
              "    .colab-df-convert:hover {\n",
              "      background-color: #E2EBFA;\n",
              "      box-shadow: 0px 1px 2px rgba(60, 64, 67, 0.3), 0px 1px 3px 1px rgba(60, 64, 67, 0.15);\n",
              "      fill: #174EA6;\n",
              "    }\n",
              "\n",
              "    [theme=dark] .colab-df-convert {\n",
              "      background-color: #3B4455;\n",
              "      fill: #D2E3FC;\n",
              "    }\n",
              "\n",
              "    [theme=dark] .colab-df-convert:hover {\n",
              "      background-color: #434B5C;\n",
              "      box-shadow: 0px 1px 3px 1px rgba(0, 0, 0, 0.15);\n",
              "      filter: drop-shadow(0px 1px 2px rgba(0, 0, 0, 0.3));\n",
              "      fill: #FFFFFF;\n",
              "    }\n",
              "  </style>\n",
              "\n",
              "      <script>\n",
              "        const buttonEl =\n",
              "          document.querySelector('#df-e9d83f3b-d50e-4dc4-a931-16d5b2064595 button.colab-df-convert');\n",
              "        buttonEl.style.display =\n",
              "          google.colab.kernel.accessAllowed ? 'block' : 'none';\n",
              "\n",
              "        async function convertToInteractive(key) {\n",
              "          const element = document.querySelector('#df-e9d83f3b-d50e-4dc4-a931-16d5b2064595');\n",
              "          const dataTable =\n",
              "            await google.colab.kernel.invokeFunction('convertToInteractive',\n",
              "                                                     [key], {});\n",
              "          if (!dataTable) return;\n",
              "\n",
              "          const docLinkHtml = 'Like what you see? Visit the ' +\n",
              "            '<a target=\"_blank\" href=https://colab.research.google.com/notebooks/data_table.ipynb>data table notebook</a>'\n",
              "            + ' to learn more about interactive tables.';\n",
              "          element.innerHTML = '';\n",
              "          dataTable['output_type'] = 'display_data';\n",
              "          await google.colab.output.renderOutput(dataTable, element);\n",
              "          const docLink = document.createElement('div');\n",
              "          docLink.innerHTML = docLinkHtml;\n",
              "          element.appendChild(docLink);\n",
              "        }\n",
              "      </script>\n",
              "    </div>\n",
              "  </div>\n",
              "  "
            ]
          },
          "metadata": {},
          "execution_count": 5
        }
      ]
    },
    {
      "cell_type": "code",
      "source": [
        "# dataset information\n",
        "dataset.info()"
      ],
      "metadata": {
        "execution": {
          "iopub.status.busy": "2021-12-31T14:35:19.878285Z",
          "iopub.execute_input": "2021-12-31T14:35:19.878862Z",
          "iopub.status.idle": "2021-12-31T14:35:19.899352Z",
          "shell.execute_reply.started": "2021-12-31T14:35:19.878826Z",
          "shell.execute_reply": "2021-12-31T14:35:19.898493Z"
        },
        "trusted": true,
        "id": "s5BLuj3vbaKz",
        "colab": {
          "base_uri": "https://localhost:8080/"
        },
        "outputId": "3368b1f6-1e52-4ad6-cb52-e2d8ca9207cf"
      },
      "execution_count": null,
      "outputs": [
        {
          "output_type": "stream",
          "name": "stdout",
          "text": [
            "<class 'pandas.core.frame.DataFrame'>\n",
            "DatetimeIndex: 1258 entries, 2012-01-03 to 2016-12-30\n",
            "Data columns (total 5 columns):\n",
            " #   Column  Non-Null Count  Dtype  \n",
            "---  ------  --------------  -----  \n",
            " 0   Open    1258 non-null   float64\n",
            " 1   High    1258 non-null   float64\n",
            " 2   Low     1258 non-null   float64\n",
            " 3   Close   1258 non-null   object \n",
            " 4   Volume  1258 non-null   object \n",
            "dtypes: float64(3), object(2)\n",
            "memory usage: 59.0+ KB\n"
          ]
        }
      ]
    },
    {
      "cell_type": "code",
      "source": [
        "#check null value in dataset\n",
        "dataset.isnull().sum()"
      ],
      "metadata": {
        "execution": {
          "iopub.status.busy": "2021-12-31T14:35:19.900501Z",
          "iopub.execute_input": "2021-12-31T14:35:19.900961Z",
          "iopub.status.idle": "2021-12-31T14:35:19.914439Z",
          "shell.execute_reply.started": "2021-12-31T14:35:19.900929Z",
          "shell.execute_reply": "2021-12-31T14:35:19.913649Z"
        },
        "trusted": true,
        "id": "UXDqjQJ8baK0",
        "colab": {
          "base_uri": "https://localhost:8080/"
        },
        "outputId": "70c3c0b8-a419-49fe-afc7-9ad1ebb4c60a"
      },
      "execution_count": null,
      "outputs": [
        {
          "output_type": "execute_result",
          "data": {
            "text/plain": [
              "Open      0\n",
              "High      0\n",
              "Low       0\n",
              "Close     0\n",
              "Volume    0\n",
              "dtype: int64"
            ]
          },
          "metadata": {},
          "execution_count": 7
        }
      ]
    },
    {
      "cell_type": "markdown",
      "source": [
        "## Visualize"
      ],
      "metadata": {
        "id": "kFgWjQfyb6QO"
      }
    },
    {
      "cell_type": "code",
      "source": [
        "#visualize the open data\n",
        "dataset['Open'].plot(figsize=(16,6))"
      ],
      "metadata": {
        "execution": {
          "iopub.status.busy": "2021-12-31T14:35:19.993529Z",
          "iopub.execute_input": "2021-12-31T14:35:19.994636Z",
          "iopub.status.idle": "2021-12-31T14:35:20.351896Z",
          "shell.execute_reply.started": "2021-12-31T14:35:19.994581Z",
          "shell.execute_reply": "2021-12-31T14:35:20.350821Z"
        },
        "trusted": true,
        "id": "_oHijB40baK3",
        "colab": {
          "base_uri": "https://localhost:8080/",
          "height": 384
        },
        "outputId": "ec63cffa-bed7-4cd6-ddd8-580858eb7bf0"
      },
      "execution_count": null,
      "outputs": [
        {
          "output_type": "execute_result",
          "data": {
            "text/plain": [
              "<matplotlib.axes._subplots.AxesSubplot at 0x7fad333e7fd0>"
            ]
          },
          "metadata": {},
          "execution_count": 8
        },
        {
          "output_type": "display_data",
          "data": {
            "text/plain": [
              "<Figure size 1152x432 with 1 Axes>"
            ],
            "image/png": "[encoded data removed]"
          },
          "metadata": {
            "needs_background": "light"
          }
        }
      ]
    },
    {
      "cell_type": "code",
      "source": [
        "# convert column \"a\" of a DataFrame\n",
        "dataset[\"Close\"] = dataset[\"Close\"].str.replace(',', '').astype(float)"
      ],
      "metadata": {
        "execution": {
          "iopub.status.busy": "2021-12-31T14:35:20.353281Z",
          "iopub.execute_input": "2021-12-31T14:35:20.353516Z",
          "iopub.status.idle": "2021-12-31T14:35:20.361401Z",
          "shell.execute_reply.started": "2021-12-31T14:35:20.35348Z",
          "shell.execute_reply": "2021-12-31T14:35:20.360432Z"
        },
        "trusted": true,
        "id": "3hRFu3jobaK3"
      },
      "execution_count": null,
      "outputs": []
    },
    {
      "cell_type": "code",
      "source": [
        "dataset[\"Volume\"] = dataset[\"Volume\"].str.replace(',', '').astype(float)"
      ],
      "metadata": {
        "execution": {
          "iopub.status.busy": "2021-12-31T14:35:20.363222Z",
          "iopub.execute_input": "2021-12-31T14:35:20.363759Z",
          "iopub.status.idle": "2021-12-31T14:35:20.377836Z",
          "shell.execute_reply.started": "2021-12-31T14:35:20.363679Z",
          "shell.execute_reply": "2021-12-31T14:35:20.376955Z"
        },
        "trusted": true,
        "id": "SmGIl9ANbaK4"
      },
      "execution_count": null,
      "outputs": []
    },
    {
      "cell_type": "code",
      "source": [
        "# 7 day rolling mean\n",
        "dataset.rolling(7).mean().head(20)"
      ],
      "metadata": {
        "execution": {
          "iopub.status.busy": "2021-12-31T14:35:20.379043Z",
          "iopub.execute_input": "2021-12-31T14:35:20.379299Z",
          "iopub.status.idle": "2021-12-31T14:35:20.404864Z",
          "shell.execute_reply.started": "2021-12-31T14:35:20.379269Z",
          "shell.execute_reply": "2021-12-31T14:35:20.404263Z"
        },
        "trusted": true,
        "id": "3GRnmEB0baK6",
        "colab": {
          "base_uri": "https://localhost:8080/",
          "height": 708
        },
        "outputId": "f081e1c0-67bc-4091-e021-dbd8657e2b6f"
      },
      "execution_count": null,
      "outputs": [
        {
          "output_type": "execute_result",
          "data": {
            "text/plain": [
              "                  Open        High         Low       Close        Volume\n",
              "Date                                                                    \n",
              "2012-01-03         NaN         NaN         NaN         NaN           NaN\n",
              "2012-01-04         NaN         NaN         NaN         NaN           NaN\n",
              "2012-01-05         NaN         NaN         NaN         NaN           NaN\n",
              "2012-01-06         NaN         NaN         NaN         NaN           NaN\n",
              "2012-01-09         NaN         NaN         NaN         NaN           NaN\n",
              "2012-01-10         NaN         NaN         NaN         NaN           NaN\n",
              "2012-01-11  323.002857  325.392857  318.682857  643.132857  7.208100e+06\n",
              "2012-01-12  321.457143  322.882857  316.841429  638.037143  6.691514e+06\n",
              "2012-01-13  318.698571  319.801429  314.025714  631.870000  6.531857e+06\n",
              "2012-01-17  316.552857  317.524286  311.851429  627.534286  6.137929e+06\n",
              "2012-01-18  314.238571  315.674286  309.882857  625.097143  6.157657e+06\n",
              "2012-01-19  313.847143  315.247143  310.610000  627.534286  6.296086e+06\n",
              "2012-01-20  311.055714  312.201429  308.104286  622.242857  8.068629e+06\n",
              "2012-01-23  308.387143  309.302857  305.402857  616.481429  8.359129e+06\n",
              "2012-01-24  305.192857  306.085714  301.951429  609.541429  8.697700e+06\n",
              "2012-01-25  301.724286  302.652857  298.060000  601.634286  9.466400e+06\n",
              "2012-01-26  297.454286  298.561429  293.710000  593.017143  9.844071e+06\n",
              "2012-01-27  293.480000  294.741429  289.952857  585.475714  1.008950e+07\n",
              "2012-01-30  289.001429  290.401429  285.821429  576.660000  8.949586e+06\n",
              "2012-01-31  288.465714  289.902857  285.355714  575.821429  6.530857e+06"
            ],
            "text/html": [
              "\n",
              "  <div id=\"df-de3abcdc-dd1b-46c2-9d28-2f0b35e6eb6f\">\n",
              "    <div class=\"colab-df-container\">\n",
              "      <div>\n",
              "<style scoped>\n",
              "    .dataframe tbody tr th:only-of-type {\n",
              "        vertical-align: middle;\n",
              "    }\n",
              "\n",
              "    .dataframe tbody tr th {\n",
              "        vertical-align: top;\n",
              "    }\n",
              "\n",
              "    .dataframe thead th {\n",
              "        text-align: right;\n",
              "    }\n",
              "</style>\n",
              "<table border=\"1\" class=\"dataframe\">\n",
              "  <thead>\n",
              "    <tr style=\"text-align: right;\">\n",
              "      <th></th>\n",
              "      <th>Open</th>\n",
              "      <th>High</th>\n",
              "      <th>Low</th>\n",
              "      <th>Close</th>\n",
              "      <th>Volume</th>\n",
              "    </tr>\n",
              "    <tr>\n",
              "      <th>Date</th>\n",
              "      <th></th>\n",
              "      <th></th>\n",
              "      <th></th>\n",
              "      <th></th>\n",
              "      <th></th>\n",
              "    </tr>\n",
              "  </thead>\n",
              "  <tbody>\n",
              "    <tr>\n",
              "      <th>2012-01-03</th>\n",
              "      <td>NaN</td>\n",
              "      <td>NaN</td>\n",
              "      <td>NaN</td>\n",
              "      <td>NaN</td>\n",
              "      <td>NaN</td>\n",
              "    </tr>\n",
              "    <tr>\n",
              "      <th>2012-01-04</th>\n",
              "      <td>NaN</td>\n",
              "      <td>NaN</td>\n",
              "      <td>NaN</td>\n",
              "      <td>NaN</td>\n",
              "      <td>NaN</td>\n",
              "    </tr>\n",
              "    <tr>\n",
              "      <th>2012-01-05</th>\n",
              "      <td>NaN</td>\n",
              "      <td>NaN</td>\n",
              "      <td>NaN</td>\n",
              "      <td>NaN</td>\n",
              "      <td>NaN</td>\n",
              "    </tr>\n",
              "    <tr>\n",
              "      <th>2012-01-06</th>\n",
              "      <td>NaN</td>\n",
              "      <td>NaN</td>\n",
              "      <td>NaN</td>\n",
              "      <td>NaN</td>\n",
              "      <td>NaN</td>\n",
              "    </tr>\n",
              "    <tr>\n",
              "      <th>2012-01-09</th>\n",
              "      <td>NaN</td>\n",
              "      <td>NaN</td>\n",
              "      <td>NaN</td>\n",
              "      <td>NaN</td>\n",
              "      <td>NaN</td>\n",
              "    </tr>\n",
              "    <tr>\n",
              "      <th>2012-01-10</th>\n",
              "      <td>NaN</td>\n",
              "      <td>NaN</td>\n",
              "      <td>NaN</td>\n",
              "      <td>NaN</td>\n",
              "      <td>NaN</td>\n",
              "    </tr>\n",
              "    <tr>\n",
              "      <th>2012-01-11</th>\n",
              "      <td>323.002857</td>\n",
              "      <td>325.392857</td>\n",
              "      <td>318.682857</td>\n",
              "      <td>643.132857</td>\n",
              "      <td>7.208100e+06</td>\n",
              "    </tr>\n",
              "    <tr>\n",
              "      <th>2012-01-12</th>\n",
              "      <td>321.457143</td>\n",
              "      <td>322.882857</td>\n",
              "      <td>316.841429</td>\n",
              "      <td>638.037143</td>\n",
              "      <td>6.691514e+06</td>\n",
              "    </tr>\n",
              "    <tr>\n",
              "      <th>2012-01-13</th>\n",
              "      <td>318.698571</td>\n",
              "      <td>319.801429</td>\n",
              "      <td>314.025714</td>\n",
              "      <td>631.870000</td>\n",
              "      <td>6.531857e+06</td>\n",
              "    </tr>\n",
              "    <tr>\n",
              "      <th>2012-01-17</th>\n",
              "      <td>316.552857</td>\n",
              "      <td>317.524286</td>\n",
              "      <td>311.851429</td>\n",
              "      <td>627.534286</td>\n",
              "      <td>6.137929e+06</td>\n",
              "    </tr>\n",
              "    <tr>\n",
              "      <th>2012-01-18</th>\n",
              "      <td>314.238571</td>\n",
              "      <td>315.674286</td>\n",
              "      <td>309.882857</td>\n",
              "      <td>625.097143</td>\n",
              "      <td>6.157657e+06</td>\n",
              "    </tr>\n",
              "    <tr>\n",
              "      <th>2012-01-19</th>\n",
              "      <td>313.847143</td>\n",
              "      <td>315.247143</td>\n",
              "      <td>310.610000</td>\n",
              "      <td>627.534286</td>\n",
              "      <td>6.296086e+06</td>\n",
              "    </tr>\n",
              "    <tr>\n",
              "      <th>2012-01-20</th>\n",
              "      <td>311.055714</td>\n",
              "      <td>312.201429</td>\n",
              "      <td>308.104286</td>\n",
              "      <td>622.242857</td>\n",
              "      <td>8.068629e+06</td>\n",
              "    </tr>\n",
              "    <tr>\n",
              "      <th>2012-01-23</th>\n",
              "      <td>308.387143</td>\n",
              "      <td>309.302857</td>\n",
              "      <td>305.402857</td>\n",
              "      <td>616.481429</td>\n",
              "      <td>8.359129e+06</td>\n",
              "    </tr>\n",
              "    <tr>\n",
              "      <th>2012-01-24</th>\n",
              "      <td>305.192857</td>\n",
              "      <td>306.085714</td>\n",
              "      <td>301.951429</td>\n",
              "      <td>609.541429</td>\n",
              "      <td>8.697700e+06</td>\n",
              "    </tr>\n",
              "    <tr>\n",
              "      <th>2012-01-25</th>\n",
              "      <td>301.724286</td>\n",
              "      <td>302.652857</td>\n",
              "      <td>298.060000</td>\n",
              "      <td>601.634286</td>\n",
              "      <td>9.466400e+06</td>\n",
              "    </tr>\n",
              "    <tr>\n",
              "      <th>2012-01-26</th>\n",
              "      <td>297.454286</td>\n",
              "      <td>298.561429</td>\n",
              "      <td>293.710000</td>\n",
              "      <td>593.017143</td>\n",
              "      <td>9.844071e+06</td>\n",
              "    </tr>\n",
              "    <tr>\n",
              "      <th>2012-01-27</th>\n",
              "      <td>293.480000</td>\n",
              "      <td>294.741429</td>\n",
              "      <td>289.952857</td>\n",
              "      <td>585.475714</td>\n",
              "      <td>1.008950e+07</td>\n",
              "    </tr>\n",
              "    <tr>\n",
              "      <th>2012-01-30</th>\n",
              "      <td>289.001429</td>\n",
              "      <td>290.401429</td>\n",
              "      <td>285.821429</td>\n",
              "      <td>576.660000</td>\n",
              "      <td>8.949586e+06</td>\n",
              "    </tr>\n",
              "    <tr>\n",
              "      <th>2012-01-31</th>\n",
              "      <td>288.465714</td>\n",
              "      <td>289.902857</td>\n",
              "      <td>285.355714</td>\n",
              "      <td>575.821429</td>\n",
              "      <td>6.530857e+06</td>\n",
              "    </tr>\n",
              "  </tbody>\n",
              "</table>\n",
              "</div>\n",
              "      <button class=\"colab-df-convert\" onclick=\"convertToInteractive('df-de3abcdc-dd1b-46c2-9d28-2f0b35e6eb6f')\"\n",
              "              title=\"Convert this dataframe to an interactive table.\"\n",
              "              style=\"display:none;\">\n",
              "        \n",
              "  <svg xmlns=\"http://www.w3.org/2000/svg\" height=\"24px\"viewBox=\"0 0 24 24\"\n",
              "       width=\"24px\">\n",
              "    <path d=\"M0 0h24v24H0V0z\" fill=\"none\"/>\n",
              "    <path d=\"M18.56 5.44l.94 2.06.94-2.06 2.06-.94-2.06-.94-.94-2.06-.94 2.06-2.06.94zm-11 1L8.5 8.5l.94-2.06 2.06-.94-2.06-.94L8.5 2.5l-.94 2.06-2.06.94zm10 10l.94 2.06.94-2.06 2.06-.94-2.06-.94-.94-2.06-.94 2.06-2.06.94z\"/><path d=\"M17.41 7.96l-1.37-1.37c-.4-.4-.92-.59-1.43-.59-.52 0-1.04.2-1.43.59L10.3 9.45l-7.72 7.72c-.78.78-.78 2.05 0 2.83L4 21.41c.39.39.9.59 1.41.59.51 0 1.02-.2 1.41-.59l7.78-7.78 2.81-2.81c.8-.78.8-2.07 0-2.86zM5.41 20L4 18.59l7.72-7.72 1.47 1.35L5.41 20z\"/>\n",
              "  </svg>\n",
              "      </button>\n",
              "      \n",
              "  <style>\n",
              "    .colab-df-container {\n",
              "      display:flex;\n",
              "      flex-wrap:wrap;\n",
              "      gap: 12px;\n",
              "    }\n",
              "\n",
              "    .colab-df-convert {\n",
              "      background-color: #E8F0FE;\n",
              "      border: none;\n",
              "      border-radius: 50%;\n",
              "      cursor: pointer;\n",
              "      display: none;\n",
              "      fill: #1967D2;\n",
              "      height: 32px;\n",
              "      padding: 0 0 0 0;\n",
              "      width: 32px;\n",
              "    }\n",
              "\n",
              "    .colab-df-convert:hover {\n",
              "      background-color: #E2EBFA;\n",
              "      box-shadow: 0px 1px 2px rgba(60, 64, 67, 0.3), 0px 1px 3px 1px rgba(60, 64, 67, 0.15);\n",
              "      fill: #174EA6;\n",
              "    }\n",
              "\n",
              "    [theme=dark] .colab-df-convert {\n",
              "      background-color: #3B4455;\n",
              "      fill: #D2E3FC;\n",
              "    }\n",
              "\n",
              "    [theme=dark] .colab-df-convert:hover {\n",
              "      background-color: #434B5C;\n",
              "      box-shadow: 0px 1px 3px 1px rgba(0, 0, 0, 0.15);\n",
              "      filter: drop-shadow(0px 1px 2px rgba(0, 0, 0, 0.3));\n",
              "      fill: #FFFFFF;\n",
              "    }\n",
              "  </style>\n",
              "\n",
              "      <script>\n",
              "        const buttonEl =\n",
              "          document.querySelector('#df-de3abcdc-dd1b-46c2-9d28-2f0b35e6eb6f button.colab-df-convert');\n",
              "        buttonEl.style.display =\n",
              "          google.colab.kernel.accessAllowed ? 'block' : 'none';\n",
              "\n",
              "        async function convertToInteractive(key) {\n",
              "          const element = document.querySelector('#df-de3abcdc-dd1b-46c2-9d28-2f0b35e6eb6f');\n",
              "          const dataTable =\n",
              "            await google.colab.kernel.invokeFunction('convertToInteractive',\n",
              "                                                     [key], {});\n",
              "          if (!dataTable) return;\n",
              "\n",
              "          const docLinkHtml = 'Like what you see? Visit the ' +\n",
              "            '<a target=\"_blank\" href=https://colab.research.google.com/notebooks/data_table.ipynb>data table notebook</a>'\n",
              "            + ' to learn more about interactive tables.';\n",
              "          element.innerHTML = '';\n",
              "          dataTable['output_type'] = 'display_data';\n",
              "          await google.colab.output.renderOutput(dataTable, element);\n",
              "          const docLink = document.createElement('div');\n",
              "          docLink.innerHTML = docLinkHtml;\n",
              "          element.appendChild(docLink);\n",
              "        }\n",
              "      </script>\n",
              "    </div>\n",
              "  </div>\n",
              "  "
            ]
          },
          "metadata": {},
          "execution_count": 11
        }
      ]
    },
    {
      "cell_type": "code",
      "source": [
        "#visualize the open and the close data\n",
        "dataset['Open'].plot(figsize=(16,6))\n",
        "dataset.rolling(window=30).mean()['Close'].plot()\n",
        "plt.legend()"
      ],
      "metadata": {
        "execution": {
          "iopub.status.busy": "2021-12-31T14:35:20.407543Z",
          "iopub.execute_input": "2021-12-31T14:35:20.408342Z",
          "iopub.status.idle": "2021-12-31T14:35:20.849476Z",
          "shell.execute_reply.started": "2021-12-31T14:35:20.408302Z",
          "shell.execute_reply": "2021-12-31T14:35:20.848439Z"
        },
        "trusted": true,
        "id": "xPgfc4FxbaK6",
        "colab": {
          "base_uri": "https://localhost:8080/",
          "height": 384
        },
        "outputId": "d1f643f6-c641-4b9a-c80d-5f8cb6c7ea6c"
      },
      "execution_count": null,
      "outputs": [
        {
          "output_type": "execute_result",
          "data": {
            "text/plain": [
              "<matplotlib.legend.Legend at 0x7fad332944d0>"
            ]
          },
          "metadata": {},
          "execution_count": 12
        },
        {
          "output_type": "display_data",
          "data": {
            "text/plain": [
              "<Figure size 1152x432 with 1 Axes>"
            ],
            "image/png": "[encoded data removed]"
          },
          "metadata": {
            "needs_background": "light"
          }
        }
      ]
    },
    {
      "cell_type": "code",
      "source": [
        "#visualize the close data and rolling mean 30 days close data\n",
        "dataset['Close: 30 Day Mean'] = dataset['Close'].rolling(window=30).mean()\n",
        "dataset[['Close','Close: 30 Day Mean']].plot(figsize=(16,6))"
      ],
      "metadata": {
        "execution": {
          "iopub.status.busy": "2021-12-31T14:35:20.850997Z",
          "iopub.execute_input": "2021-12-31T14:35:20.851572Z",
          "iopub.status.idle": "2021-12-31T14:35:21.225759Z",
          "shell.execute_reply.started": "2021-12-31T14:35:20.851526Z",
          "shell.execute_reply": "2021-12-31T14:35:21.224847Z"
        },
        "trusted": true,
        "id": "Wqy-0jTkbaK7",
        "colab": {
          "base_uri": "https://localhost:8080/",
          "height": 384
        },
        "outputId": "02aa04c7-9593-4d59-ec46-365ecce46359"
      },
      "execution_count": null,
      "outputs": [
        {
          "output_type": "execute_result",
          "data": {
            "text/plain": [
              "<matplotlib.axes._subplots.AxesSubplot at 0x7fad32d9c950>"
            ]
          },
          "metadata": {},
          "execution_count": 13
        },
        {
          "output_type": "display_data",
          "data": {
            "text/plain": [
              "<Figure size 1152x432 with 1 Axes>"
            ],
            "image/png": "[encoded data removed]"
          },
          "metadata": {
            "needs_background": "light"
          }
        }
      ]
    },
    {
      "cell_type": "code",
      "source": [
        "# Optional specify a minimum number of periods\n",
        "dataset['Close'].expanding(min_periods=1).mean().plot(figsize=(16,6))"
      ],
      "metadata": {
        "execution": {
          "iopub.status.busy": "2021-12-31T14:35:21.227155Z",
          "iopub.execute_input": "2021-12-31T14:35:21.227734Z",
          "iopub.status.idle": "2021-12-31T14:35:21.545063Z",
          "shell.execute_reply.started": "2021-12-31T14:35:21.227693Z",
          "shell.execute_reply": "2021-12-31T14:35:21.544376Z"
        },
        "trusted": true,
        "id": "im566wcDbaK7",
        "colab": {
          "base_uri": "https://localhost:8080/",
          "height": 384
        },
        "outputId": "7142b7a9-df42-4ddd-9a4e-e3d8b69ef39e"
      },
      "execution_count": null,
      "outputs": [
        {
          "output_type": "execute_result",
          "data": {
            "text/plain": [
              "<matplotlib.axes._subplots.AxesSubplot at 0x7fad32cdbbd0>"
            ]
          },
          "metadata": {},
          "execution_count": 14
        },
        {
          "output_type": "display_data",
          "data": {
            "text/plain": [
              "<Figure size 1152x432 with 1 Axes>"
            ],
            "image/png": "[encoded data removed]"
          },
          "metadata": {
            "needs_background": "light"
          }
        }
      ]
    },
    {
      "cell_type": "markdown",
      "source": [
        "## Feature Engineering"
      ],
      "metadata": {
        "id": "diWFy5KkzJQk"
      }
    },
    {
      "cell_type": "code",
      "source": [
        "#define the training_set \n",
        "training_set=dataset['Open']\n",
        "training_set=pd.DataFrame(training_set)"
      ],
      "metadata": {
        "execution": {
          "iopub.status.busy": "2021-12-31T14:35:21.546543Z",
          "iopub.execute_input": "2021-12-31T14:35:21.54754Z",
          "iopub.status.idle": "2021-12-31T14:35:21.553875Z",
          "shell.execute_reply.started": "2021-12-31T14:35:21.547479Z",
          "shell.execute_reply": "2021-12-31T14:35:21.552975Z"
        },
        "trusted": true,
        "id": "dj1BZwmibaK8"
      },
      "execution_count": null,
      "outputs": []
    },
    {
      "cell_type": "code",
      "source": [
        "#training_set head\n",
        "training_set.head(3)"
      ],
      "metadata": {
        "colab": {
          "base_uri": "https://localhost:8080/",
          "height": 175
        },
        "id": "Vb7UUG-cbx1m",
        "outputId": "ea336820-77c5-4848-defc-efd19851a63d"
      },
      "execution_count": null,
      "outputs": [
        {
          "output_type": "execute_result",
          "data": {
            "text/plain": [
              "              Open\n",
              "Date              \n",
              "2012-01-03  325.25\n",
              "2012-01-04  331.27\n",
              "2012-01-05  329.83"
            ],
            "text/html": [
              "\n",
              "  <div id=\"df-cc67119c-e234-48a6-a472-6cd8af26005d\">\n",
              "    <div class=\"colab-df-container\">\n",
              "      <div>\n",
              "<style scoped>\n",
              "    .dataframe tbody tr th:only-of-type {\n",
              "        vertical-align: middle;\n",
              "    }\n",
              "\n",
              "    .dataframe tbody tr th {\n",
              "        vertical-align: top;\n",
              "    }\n",
              "\n",
              "    .dataframe thead th {\n",
              "        text-align: right;\n",
              "    }\n",
              "</style>\n",
              "<table border=\"1\" class=\"dataframe\">\n",
              "  <thead>\n",
              "    <tr style=\"text-align: right;\">\n",
              "      <th></th>\n",
              "      <th>Open</th>\n",
              "    </tr>\n",
              "    <tr>\n",
              "      <th>Date</th>\n",
              "      <th></th>\n",
              "    </tr>\n",
              "  </thead>\n",
              "  <tbody>\n",
              "    <tr>\n",
              "      <th>2012-01-03</th>\n",
              "      <td>325.25</td>\n",
              "    </tr>\n",
              "    <tr>\n",
              "      <th>2012-01-04</th>\n",
              "      <td>331.27</td>\n",
              "    </tr>\n",
              "    <tr>\n",
              "      <th>2012-01-05</th>\n",
              "      <td>329.83</td>\n",
              "    </tr>\n",
              "  </tbody>\n",
              "</table>\n",
              "</div>\n",
              "      <button class=\"colab-df-convert\" onclick=\"convertToInteractive('df-cc67119c-e234-48a6-a472-6cd8af26005d')\"\n",
              "              title=\"Convert this dataframe to an interactive table.\"\n",
              "              style=\"display:none;\">\n",
              "        \n",
              "  <svg xmlns=\"http://www.w3.org/2000/svg\" height=\"24px\"viewBox=\"0 0 24 24\"\n",
              "       width=\"24px\">\n",
              "    <path d=\"M0 0h24v24H0V0z\" fill=\"none\"/>\n",
              "    <path d=\"M18.56 5.44l.94 2.06.94-2.06 2.06-.94-2.06-.94-.94-2.06-.94 2.06-2.06.94zm-11 1L8.5 8.5l.94-2.06 2.06-.94-2.06-.94L8.5 2.5l-.94 2.06-2.06.94zm10 10l.94 2.06.94-2.06 2.06-.94-2.06-.94-.94-2.06-.94 2.06-2.06.94z\"/><path d=\"M17.41 7.96l-1.37-1.37c-.4-.4-.92-.59-1.43-.59-.52 0-1.04.2-1.43.59L10.3 9.45l-7.72 7.72c-.78.78-.78 2.05 0 2.83L4 21.41c.39.39.9.59 1.41.59.51 0 1.02-.2 1.41-.59l7.78-7.78 2.81-2.81c.8-.78.8-2.07 0-2.86zM5.41 20L4 18.59l7.72-7.72 1.47 1.35L5.41 20z\"/>\n",
              "  </svg>\n",
              "      </button>\n",
              "      \n",
              "  <style>\n",
              "    .colab-df-container {\n",
              "      display:flex;\n",
              "      flex-wrap:wrap;\n",
              "      gap: 12px;\n",
              "    }\n",
              "\n",
              "    .colab-df-convert {\n",
              "      background-color: #E8F0FE;\n",
              "      border: none;\n",
              "      border-radius: 50%;\n",
              "      cursor: pointer;\n",
              "      display: none;\n",
              "      fill: #1967D2;\n",
              "      height: 32px;\n",
              "      padding: 0 0 0 0;\n",
              "      width: 32px;\n",
              "    }\n",
              "\n",
              "    .colab-df-convert:hover {\n",
              "      background-color: #E2EBFA;\n",
              "      box-shadow: 0px 1px 2px rgba(60, 64, 67, 0.3), 0px 1px 3px 1px rgba(60, 64, 67, 0.15);\n",
              "      fill: #174EA6;\n",
              "    }\n",
              "\n",
              "    [theme=dark] .colab-df-convert {\n",
              "      background-color: #3B4455;\n",
              "      fill: #D2E3FC;\n",
              "    }\n",
              "\n",
              "    [theme=dark] .colab-df-convert:hover {\n",
              "      background-color: #434B5C;\n",
              "      box-shadow: 0px 1px 3px 1px rgba(0, 0, 0, 0.15);\n",
              "      filter: drop-shadow(0px 1px 2px rgba(0, 0, 0, 0.3));\n",
              "      fill: #FFFFFF;\n",
              "    }\n",
              "  </style>\n",
              "\n",
              "      <script>\n",
              "        const buttonEl =\n",
              "          document.querySelector('#df-cc67119c-e234-48a6-a472-6cd8af26005d button.colab-df-convert');\n",
              "        buttonEl.style.display =\n",
              "          google.colab.kernel.accessAllowed ? 'block' : 'none';\n",
              "\n",
              "        async function convertToInteractive(key) {\n",
              "          const element = document.querySelector('#df-cc67119c-e234-48a6-a472-6cd8af26005d');\n",
              "          const dataTable =\n",
              "            await google.colab.kernel.invokeFunction('convertToInteractive',\n",
              "                                                     [key], {});\n",
              "          if (!dataTable) return;\n",
              "\n",
              "          const docLinkHtml = 'Like what you see? Visit the ' +\n",
              "            '<a target=\"_blank\" href=https://colab.research.google.com/notebooks/data_table.ipynb>data table notebook</a>'\n",
              "            + ' to learn more about interactive tables.';\n",
              "          element.innerHTML = '';\n",
              "          dataTable['output_type'] = 'display_data';\n",
              "          await google.colab.output.renderOutput(dataTable, element);\n",
              "          const docLink = document.createElement('div');\n",
              "          docLink.innerHTML = docLinkHtml;\n",
              "          element.appendChild(docLink);\n",
              "        }\n",
              "      </script>\n",
              "    </div>\n",
              "  </div>\n",
              "  "
            ]
          },
          "metadata": {},
          "execution_count": 16
        }
      ]
    },
    {
      "cell_type": "code",
      "source": [
        "# Feature Scaling\n",
        "\n",
        "sc = MinMaxScaler(feature_range = (0, 1))\n",
        "training_set_scaled = sc.fit_transform(training_set)"
      ],
      "metadata": {
        "execution": {
          "iopub.status.busy": "2021-12-31T14:35:21.555552Z",
          "iopub.execute_input": "2021-12-31T14:35:21.555935Z",
          "iopub.status.idle": "2021-12-31T14:35:22.495594Z",
          "shell.execute_reply.started": "2021-12-31T14:35:21.555892Z",
          "shell.execute_reply": "2021-12-31T14:35:22.494953Z"
        },
        "trusted": true,
        "id": "KfqmiFX0baK9"
      },
      "execution_count": null,
      "outputs": []
    },
    {
      "cell_type": "code",
      "source": [
        "# Creating a data structure with 60 timesteps and 1 output\n",
        "X_train = []\n",
        "y_train = []\n",
        "for i in range(60, 1258):\n",
        "    X_train.append(training_set_scaled[i-60:i, 0])\n",
        "    y_train.append(training_set_scaled[i, 0])\n",
        "X_train, y_train = np.array(X_train), np.array(y_train)\n",
        "\n",
        "# Reshaping\n",
        "X_train = np.reshape(X_train, (X_train.shape[0], X_train.shape[1], 1))"
      ],
      "metadata": {
        "execution": {
          "iopub.status.busy": "2021-12-31T14:35:22.497115Z",
          "iopub.execute_input": "2021-12-31T14:35:22.497639Z",
          "iopub.status.idle": "2021-12-31T14:35:22.509968Z",
          "shell.execute_reply.started": "2021-12-31T14:35:22.497594Z",
          "shell.execute_reply": "2021-12-31T14:35:22.509249Z"
        },
        "trusted": true,
        "id": "j3dxNWPwbaK9"
      },
      "execution_count": null,
      "outputs": []
    },
    {
      "cell_type": "code",
      "source": [
        "  #split the data train and validation for our model\n",
        "  split_size = int(len(X_train)*(0.8)) # this will default to 80% train/20% test\n",
        "  train_windows = X_train[:split_size]\n",
        "  train_labels = y_train[:split_size]\n",
        "  test_windows = X_train[split_size:]\n",
        "  test_labels = y_train[split_size:]\n",
        "  len(train_windows), len(test_windows), len(train_labels), len(test_labels)"
      ],
      "metadata": {
        "colab": {
          "base_uri": "https://localhost:8080/"
        },
        "id": "iQHwD7BPiN6Y",
        "outputId": "c94fe0d3-13f7-4333-f9ba-644b203bf93e"
      },
      "execution_count": null,
      "outputs": [
        {
          "output_type": "execute_result",
          "data": {
            "text/plain": [
              "(958, 240, 958, 240)"
            ]
          },
          "metadata": {},
          "execution_count": 19
        }
      ]
    },
    {
      "cell_type": "code",
      "source": [
        "#train window and test window shape\n",
        "train_windows.shape, test_windows.shape"
      ],
      "metadata": {
        "colab": {
          "base_uri": "https://localhost:8080/"
        },
        "id": "gqVGO8zEs0rA",
        "outputId": "9aa35941-3d59-4615-c75b-646259b1e57f"
      },
      "execution_count": null,
      "outputs": [
        {
          "output_type": "execute_result",
          "data": {
            "text/plain": [
              "((958, 60, 1), (240, 60, 1))"
            ]
          },
          "metadata": {},
          "execution_count": 20
        }
      ]
    },
    {
      "cell_type": "markdown",
      "source": [
        "## LSTM Model"
      ],
      "metadata": {
        "id": "-Dt7CrHK07Vo"
      }
    },
    {
      "cell_type": "code",
      "source": [
        "#create a funtion to implement a ModelCheckpoint callback with a spesific filename\n",
        "def create_model_checkpoint(model_name, save_path=\"model_experiments\"):\n",
        "  return tf.keras.callbacks.ModelCheckpoint(filepath= os.path.join(save_path,model_name), # create filepath to save model\n",
        "                                            verbose=0, #only output a limited amount of text\n",
        "                                            save_best_only=True) #save only the best model to file"
      ],
      "metadata": {
        "id": "5EA2Cfplxzaj"
      },
      "execution_count": null,
      "outputs": []
    },
    {
      "cell_type": "code",
      "source": [
        "# Initialising the RNN\n",
        "model = Sequential()"
      ],
      "metadata": {
        "execution": {
          "iopub.status.busy": "2021-12-31T14:35:28.799087Z",
          "iopub.execute_input": "2021-12-31T14:35:28.799682Z",
          "iopub.status.idle": "2021-12-31T14:35:28.861168Z",
          "shell.execute_reply.started": "2021-12-31T14:35:28.79965Z",
          "shell.execute_reply": "2021-12-31T14:35:28.860423Z"
        },
        "trusted": true,
        "id": "DSGMiaJKbaK-"
      },
      "execution_count": null,
      "outputs": []
    },
    {
      "cell_type": "code",
      "source": [
        "# Adding the first LSTM layer and some Dropout regularisation\n",
        "model.add(LSTM(200, activation='relu', input_shape=(train_windows.shape[1], train_windows.shape[2])))\n",
        "model.add(Dropout(0.2))\n",
        "# Adding a second LSTM layer and some Dropout regularisation\n",
        "model.add(Dense(200, activation='relu'))\n",
        "model.add(Dropout(0.2))\n",
        "# Adding a third LSTM layer and some Dropout regularisation\n",
        "model.add(Dense(100, activation='relu'))\n",
        "model.add(Dropout(0.2))\n",
        "# Adding a fourth LSTM layer and some Dropout regularisation\n",
        "model.add(Dense(50, activation='relu'))\n",
        "model.add(Dropout(0.2))\n",
        "# Adding the output layer\n",
        "model.add(Dense(1))"
      ],
      "metadata": {
        "execution": {
          "iopub.status.busy": "2021-12-31T14:35:28.862832Z",
          "iopub.execute_input": "2021-12-31T14:35:28.863248Z",
          "iopub.status.idle": "2021-12-31T14:35:29.951789Z",
          "shell.execute_reply.started": "2021-12-31T14:35:28.863209Z",
          "shell.execute_reply": "2021-12-31T14:35:29.950751Z"
        },
        "trusted": true,
        "id": "LZ34x4R-baK-"
      },
      "execution_count": null,
      "outputs": []
    },
    {
      "cell_type": "code",
      "source": [
        "# Compiling the RNN\n",
        "model.compile(loss='mean_squared_error', optimizer='adam')"
      ],
      "metadata": {
        "id": "rTVMT3NCc441"
      },
      "execution_count": null,
      "outputs": []
    },
    {
      "cell_type": "code",
      "source": [
        "# Fitting the RNN to the Training set\n",
        "epoch = 100 \n",
        "batch_size = 32\n",
        "model.fit(train_windows, train_labels, \n",
        "          epochs=epoch, \n",
        "          batch_size=batch_size, \n",
        "          validation_data=(test_windows, test_labels), \n",
        "          verbose=1, \n",
        "          shuffle=False,\n",
        "          callbacks=[create_model_checkpoint(model_name=model.name)])"
      ],
      "metadata": {
        "execution": {
          "iopub.status.busy": "2021-12-31T14:35:29.953114Z",
          "iopub.execute_input": "2021-12-31T14:35:29.953386Z",
          "iopub.status.idle": "2021-12-31T14:48:14.913309Z",
          "shell.execute_reply.started": "2021-12-31T14:35:29.953352Z",
          "shell.execute_reply": "2021-12-31T14:48:14.912451Z"
        },
        "trusted": true,
        "id": "bdeEsdyMbaK_",
        "colab": {
          "base_uri": "https://localhost:8080/"
        },
        "outputId": "230460e2-cfae-4bf1-9ac1-3ff3b6b60a6b"
      },
      "execution_count": null,
      "outputs": [
        {
          "output_type": "stream",
          "name": "stdout",
          "text": [
            "Epoch 1/100\n",
            "30/30 [==============================] - ETA: 0s - loss: 0.0114INFO:tensorflow:Assets written to: model_experiments/sequential/assets\n"
          ]
        },
        {
          "output_type": "stream",
          "name": "stderr",
          "text": [
            "WARNING:absl:<keras.layers.recurrent.LSTMCell object at 0x7facbb2a27d0> has the same name 'LSTMCell' as a built-in Keras object. Consider renaming <class 'keras.layers.recurrent.LSTMCell'> to avoid naming conflicts when loading with `tf.keras.models.load_model`. If renaming is not possible, pass the object in the `custom_objects` parameter of the load function.\n"
          ]
        },
        {
          "output_type": "stream",
          "name": "stdout",
          "text": [
            "\b\b\b\b\b\b\b\b\b\b\b\b\b\b\b\b\b\b\b\b\b\b\b\b\b\b\b\b\b\b\b\b\b\b\b\b\b\b\b\b\b\b\b\b\b\b\b\b\b\b\b\b\b\b\b\b\b\b\b\b\b\b\b\r30/30 [==============================] - 8s 224ms/step - loss: 0.0114 - val_loss: 0.0086\n",
            "Epoch 2/100\n",
            "30/30 [==============================] - 4s 137ms/step - loss: 0.0443 - val_loss: 0.0284\n",
            "Epoch 3/100\n",
            "30/30 [==============================] - ETA: 0s - loss: 0.0087INFO:tensorflow:Assets written to: model_experiments/sequential/assets\n"
          ]
        },
        {
          "output_type": "stream",
          "name": "stderr",
          "text": [
            "INFO:tensorflow:Assets written to: model_experiments/sequential/assets\n",
            "WARNING:absl:<keras.layers.recurrent.LSTMCell object at 0x7facbb2a27d0> has the same name 'LSTMCell' as a built-in Keras object. Consider renaming <class 'keras.layers.recurrent.LSTMCell'> to avoid naming conflicts when loading with `tf.keras.models.load_model`. If renaming is not possible, pass the object in the `custom_objects` parameter of the load function.\n"
          ]
        },
        {
          "output_type": "stream",
          "name": "stdout",
          "text": [
            "\b\b\b\b\b\b\b\b\b\b\b\b\b\b\b\b\b\b\b\b\b\b\b\b\b\b\b\b\b\b\b\b\b\b\b\b\b\b\b\b\b\b\b\b\b\b\b\b\b\b\b\b\b\b\b\b\b\b\b\b\b\b\b\r30/30 [==============================] - 6s 204ms/step - loss: 0.0087 - val_loss: 0.0015\n",
            "Epoch 4/100\n",
            "30/30 [==============================] - 4s 118ms/step - loss: 0.0070 - val_loss: 0.0017\n",
            "Epoch 5/100\n",
            "30/30 [==============================] - ETA: 0s - loss: 0.0063INFO:tensorflow:Assets written to: model_experiments/sequential/assets\n"
          ]
        },
        {
          "output_type": "stream",
          "name": "stderr",
          "text": [
            "INFO:tensorflow:Assets written to: model_experiments/sequential/assets\n",
            "WARNING:absl:<keras.layers.recurrent.LSTMCell object at 0x7facbb2a27d0> has the same name 'LSTMCell' as a built-in Keras object. Consider renaming <class 'keras.layers.recurrent.LSTMCell'> to avoid naming conflicts when loading with `tf.keras.models.load_model`. If renaming is not possible, pass the object in the `custom_objects` parameter of the load function.\n"
          ]
        },
        {
          "output_type": "stream",
          "name": "stdout",
          "text": [
            "\b\b\b\b\b\b\b\b\b\b\b\b\b\b\b\b\b\b\b\b\b\b\b\b\b\b\b\b\b\b\b\b\b\b\b\b\b\b\b\b\b\b\b\b\b\b\b\b\b\b\b\b\b\b\b\b\b\b\b\b\b\b\b\r30/30 [==============================] - 6s 203ms/step - loss: 0.0063 - val_loss: 0.0010\n",
            "Epoch 6/100\n",
            "30/30 [==============================] - 4s 118ms/step - loss: 0.0089 - val_loss: 0.0163\n",
            "Epoch 7/100\n",
            "30/30 [==============================] - 4s 121ms/step - loss: 0.0118 - val_loss: 0.0025\n",
            "Epoch 8/100\n",
            "30/30 [==============================] - 3s 117ms/step - loss: 0.0129 - val_loss: 0.0123\n",
            "Epoch 9/100\n",
            "30/30 [==============================] - 4s 119ms/step - loss: 0.0182 - val_loss: 0.0050\n",
            "Epoch 10/100\n",
            "30/30 [==============================] - 4s 121ms/step - loss: 0.0108 - val_loss: 0.0094\n",
            "Epoch 11/100\n",
            "30/30 [==============================] - ETA: 0s - loss: 0.0091INFO:tensorflow:Assets written to: model_experiments/sequential/assets\n"
          ]
        },
        {
          "output_type": "stream",
          "name": "stderr",
          "text": [
            "INFO:tensorflow:Assets written to: model_experiments/sequential/assets\n",
            "WARNING:absl:<keras.layers.recurrent.LSTMCell object at 0x7facbb2a27d0> has the same name 'LSTMCell' as a built-in Keras object. Consider renaming <class 'keras.layers.recurrent.LSTMCell'> to avoid naming conflicts when loading with `tf.keras.models.load_model`. If renaming is not possible, pass the object in the `custom_objects` parameter of the load function.\n"
          ]
        },
        {
          "output_type": "stream",
          "name": "stdout",
          "text": [
            "\b\b\b\b\b\b\b\b\b\b\b\b\b\b\b\b\b\b\b\b\b\b\b\b\b\b\b\b\b\b\b\b\b\b\b\b\b\b\b\b\b\b\b\b\b\b\b\b\b\b\b\b\b\b\b\b\b\b\b\b\b\b\b\r30/30 [==============================] - 6s 215ms/step - loss: 0.0091 - val_loss: 7.5061e-04\n",
            "Epoch 12/100\n",
            "30/30 [==============================] - 4s 122ms/step - loss: 0.0096 - val_loss: 0.0109\n",
            "Epoch 13/100\n",
            "30/30 [==============================] - 4s 119ms/step - loss: 0.0156 - val_loss: 0.0125\n",
            "Epoch 14/100\n",
            "30/30 [==============================] - 4s 119ms/step - loss: 0.0078 - val_loss: 0.0012\n",
            "Epoch 15/100\n",
            "30/30 [==============================] - 4s 120ms/step - loss: 1344624740270080.0000 - val_loss: 0.0021\n",
            "Epoch 16/100\n",
            "30/30 [==============================] - ETA: 0s - loss: 0.0086INFO:tensorflow:Assets written to: model_experiments/sequential/assets\n"
          ]
        },
        {
          "output_type": "stream",
          "name": "stderr",
          "text": [
            "INFO:tensorflow:Assets written to: model_experiments/sequential/assets\n",
            "WARNING:absl:<keras.layers.recurrent.LSTMCell object at 0x7facbb2a27d0> has the same name 'LSTMCell' as a built-in Keras object. Consider renaming <class 'keras.layers.recurrent.LSTMCell'> to avoid naming conflicts when loading with `tf.keras.models.load_model`. If renaming is not possible, pass the object in the `custom_objects` parameter of the load function.\n"
          ]
        },
        {
          "output_type": "stream",
          "name": "stdout",
          "text": [
            "\b\b\b\b\b\b\b\b\b\b\b\b\b\b\b\b\b\b\b\b\b\b\b\b\b\b\b\b\b\b\b\b\b\b\b\b\b\b\b\b\b\b\b\b\b\b\b\b\b\b\b\b\b\b\b\b\b\b\b\b\b\b\b\r30/30 [==============================] - 6s 204ms/step - loss: 0.0086 - val_loss: 7.3737e-04\n",
            "Epoch 17/100\n",
            "30/30 [==============================] - 4s 119ms/step - loss: 0.0060 - val_loss: 0.0020\n",
            "Epoch 18/100\n",
            "30/30 [==============================] - 4s 119ms/step - loss: 0.0060 - val_loss: 9.9652e-04\n",
            "Epoch 19/100\n",
            "30/30 [==============================] - 4s 150ms/step - loss: 0.0077 - val_loss: 0.0026\n",
            "Epoch 20/100\n",
            "30/30 [==============================] - ETA: 0s - loss: 0.0064INFO:tensorflow:Assets written to: model_experiments/sequential/assets\n"
          ]
        },
        {
          "output_type": "stream",
          "name": "stderr",
          "text": [
            "INFO:tensorflow:Assets written to: model_experiments/sequential/assets\n",
            "WARNING:absl:<keras.layers.recurrent.LSTMCell object at 0x7facbb2a27d0> has the same name 'LSTMCell' as a built-in Keras object. Consider renaming <class 'keras.layers.recurrent.LSTMCell'> to avoid naming conflicts when loading with `tf.keras.models.load_model`. If renaming is not possible, pass the object in the `custom_objects` parameter of the load function.\n"
          ]
        },
        {
          "output_type": "stream",
          "name": "stdout",
          "text": [
            "\b\b\b\b\b\b\b\b\b\b\b\b\b\b\b\b\b\b\b\b\b\b\b\b\b\b\b\b\b\b\b\b\b\b\b\b\b\b\b\b\b\b\b\b\b\b\b\b\b\b\b\b\b\b\b\b\b\b\b\b\b\b\b\r30/30 [==============================] - 6s 205ms/step - loss: 0.0064 - val_loss: 5.8068e-04\n",
            "Epoch 21/100\n",
            "30/30 [==============================] - 5s 171ms/step - loss: 0.0070 - val_loss: 0.0055\n",
            "Epoch 22/100\n",
            "30/30 [==============================] - 3s 115ms/step - loss: 0.0120 - val_loss: 0.0065\n",
            "Epoch 23/100\n",
            "30/30 [==============================] - 3s 115ms/step - loss: 0.0067 - val_loss: 0.0012\n",
            "Epoch 24/100\n",
            "30/30 [==============================] - 3s 116ms/step - loss: 0.0053 - val_loss: 6.2621e-04\n",
            "Epoch 25/100\n",
            "30/30 [==============================] - 3s 115ms/step - loss: 0.0074 - val_loss: 0.0028\n",
            "Epoch 26/100\n",
            "30/30 [==============================] - 3s 116ms/step - loss: 0.0096 - val_loss: 0.0084\n",
            "Epoch 27/100\n",
            "30/30 [==============================] - 4s 118ms/step - loss: 0.0045 - val_loss: 9.1598e-04\n",
            "Epoch 28/100\n",
            "30/30 [==============================] - 4s 117ms/step - loss: 0.0049 - val_loss: 9.5242e-04\n",
            "Epoch 29/100\n",
            "30/30 [==============================] - 3s 116ms/step - loss: 0.0105 - val_loss: 0.0022\n",
            "Epoch 30/100\n",
            "30/30 [==============================] - 3s 116ms/step - loss: 0.0090 - val_loss: 0.0015\n",
            "Epoch 31/100\n",
            "30/30 [==============================] - ETA: 0s - loss: 0.0057INFO:tensorflow:Assets written to: model_experiments/sequential/assets\n"
          ]
        },
        {
          "output_type": "stream",
          "name": "stderr",
          "text": [
            "INFO:tensorflow:Assets written to: model_experiments/sequential/assets\n",
            "WARNING:absl:<keras.layers.recurrent.LSTMCell object at 0x7facbb2a27d0> has the same name 'LSTMCell' as a built-in Keras object. Consider renaming <class 'keras.layers.recurrent.LSTMCell'> to avoid naming conflicts when loading with `tf.keras.models.load_model`. If renaming is not possible, pass the object in the `custom_objects` parameter of the load function.\n"
          ]
        },
        {
          "output_type": "stream",
          "name": "stdout",
          "text": [
            "\b\b\b\b\b\b\b\b\b\b\b\b\b\b\b\b\b\b\b\b\b\b\b\b\b\b\b\b\b\b\b\b\b\b\b\b\b\b\b\b\b\b\b\b\b\b\b\b\b\b\b\b\b\b\b\b\b\b\b\b\b\b\b\r30/30 [==============================] - 6s 212ms/step - loss: 0.0057 - val_loss: 5.3742e-04\n",
            "Epoch 32/100\n",
            "30/30 [==============================] - 3s 117ms/step - loss: 0.0107 - val_loss: 9.1131e-04\n",
            "Epoch 33/100\n",
            "30/30 [==============================] - 4s 118ms/step - loss: 0.0126 - val_loss: 8.0898e-04\n",
            "Epoch 34/100\n",
            "30/30 [==============================] - 4s 118ms/step - loss: 0.0091 - val_loss: 7.4183e-04\n",
            "Epoch 35/100\n",
            "30/30 [==============================] - 4s 120ms/step - loss: 0.0158 - val_loss: 0.0134\n",
            "Epoch 36/100\n",
            "30/30 [==============================] - 4s 120ms/step - loss: 0.0180 - val_loss: 0.0036\n",
            "Epoch 37/100\n",
            "30/30 [==============================] - 4s 117ms/step - loss: 0.0123 - val_loss: 8.9376e-04\n",
            "Epoch 38/100\n",
            "30/30 [==============================] - 4s 118ms/step - loss: 0.0081 - val_loss: 6.1745e-04\n",
            "Epoch 39/100\n",
            "30/30 [==============================] - 4s 118ms/step - loss: 0.0151 - val_loss: 0.0483\n",
            "Epoch 40/100\n",
            "30/30 [==============================] - 4s 119ms/step - loss: 0.0084 - val_loss: 0.0145\n",
            "Epoch 41/100\n",
            "30/30 [==============================] - 4s 120ms/step - loss: 0.0066 - val_loss: 0.0066\n",
            "Epoch 42/100\n",
            "30/30 [==============================] - 4s 121ms/step - loss: 0.0044 - val_loss: 0.0014\n",
            "Epoch 43/100\n",
            "30/30 [==============================] - 4s 119ms/step - loss: 0.0035 - val_loss: 0.0011\n",
            "Epoch 44/100\n",
            "30/30 [==============================] - 4s 120ms/step - loss: 0.0038 - val_loss: 0.0027\n",
            "Epoch 45/100\n",
            "30/30 [==============================] - 3s 116ms/step - loss: 0.0037 - val_loss: 0.0021\n",
            "Epoch 46/100\n",
            "30/30 [==============================] - 4s 119ms/step - loss: 0.0049 - val_loss: 0.0029\n",
            "Epoch 47/100\n",
            "30/30 [==============================] - 4s 118ms/step - loss: 0.0047 - val_loss: 8.6947e-04\n",
            "Epoch 48/100\n",
            "30/30 [==============================] - 3s 117ms/step - loss: 0.0042 - val_loss: 9.1854e-04\n",
            "Epoch 49/100\n",
            "30/30 [==============================] - 3s 115ms/step - loss: 0.0040 - val_loss: 9.5384e-04\n",
            "Epoch 50/100\n",
            "30/30 [==============================] - 4s 119ms/step - loss: 0.0039 - val_loss: 0.0030\n",
            "Epoch 51/100\n",
            "30/30 [==============================] - 4s 119ms/step - loss: 0.0040 - val_loss: 8.0570e-04\n",
            "Epoch 52/100\n",
            "30/30 [==============================] - 3s 117ms/step - loss: 0.0043 - val_loss: 8.8688e-04\n",
            "Epoch 53/100\n",
            "30/30 [==============================] - 3s 117ms/step - loss: 0.0035 - val_loss: 9.0088e-04\n",
            "Epoch 54/100\n",
            "30/30 [==============================] - 3s 117ms/step - loss: 0.0031 - val_loss: 0.0019\n",
            "Epoch 55/100\n",
            "30/30 [==============================] - 3s 117ms/step - loss: 0.0032 - val_loss: 0.0037\n",
            "Epoch 56/100\n",
            "30/30 [==============================] - 4s 118ms/step - loss: 0.0033 - val_loss: 0.0018\n",
            "Epoch 57/100\n",
            "30/30 [==============================] - 4s 118ms/step - loss: 0.0034 - val_loss: 0.0019\n",
            "Epoch 58/100\n",
            "30/30 [==============================] - 4s 118ms/step - loss: 0.0042 - val_loss: 0.0010\n",
            "Epoch 59/100\n",
            "30/30 [==============================] - 4s 117ms/step - loss: 0.0048 - val_loss: 8.2959e-04\n",
            "Epoch 60/100\n",
            "30/30 [==============================] - 4s 118ms/step - loss: 0.0047 - val_loss: 9.6197e-04\n",
            "Epoch 61/100\n",
            "30/30 [==============================] - 4s 118ms/step - loss: 0.0031 - val_loss: 9.4398e-04\n",
            "Epoch 62/100\n",
            "30/30 [==============================] - 4s 119ms/step - loss: 0.0032 - val_loss: 0.0035\n",
            "Epoch 63/100\n",
            "30/30 [==============================] - 3s 117ms/step - loss: 0.0035 - val_loss: 0.0018\n",
            "Epoch 64/100\n",
            "30/30 [==============================] - 3s 115ms/step - loss: 0.0057 - val_loss: 9.8423e-04\n",
            "Epoch 65/100\n",
            "30/30 [==============================] - 4s 118ms/step - loss: 0.0108 - val_loss: 0.0122\n",
            "Epoch 66/100\n",
            "30/30 [==============================] - 4s 119ms/step - loss: 0.0107 - val_loss: 0.0064\n",
            "Epoch 67/100\n",
            "30/30 [==============================] - 4s 119ms/step - loss: 0.0096 - val_loss: 0.0049\n",
            "Epoch 68/100\n",
            "30/30 [==============================] - 4s 118ms/step - loss: 0.0060 - val_loss: 0.0014\n",
            "Epoch 69/100\n",
            "30/30 [==============================] - 4s 118ms/step - loss: 0.0041 - val_loss: 0.0012\n",
            "Epoch 70/100\n",
            "30/30 [==============================] - 4s 118ms/step - loss: 0.0079 - val_loss: 0.0177\n",
            "Epoch 71/100\n",
            "30/30 [==============================] - 4s 118ms/step - loss: 0.0104 - val_loss: 0.0018\n",
            "Epoch 72/100\n",
            "30/30 [==============================] - 4s 118ms/step - loss: 0.0064 - val_loss: 8.3725e-04\n",
            "Epoch 73/100\n",
            "30/30 [==============================] - 4s 118ms/step - loss: 0.0042 - val_loss: 8.1596e-04\n",
            "Epoch 74/100\n",
            "30/30 [==============================] - 4s 117ms/step - loss: 0.0032 - val_loss: 6.5742e-04\n",
            "Epoch 75/100\n",
            "30/30 [==============================] - 4s 118ms/step - loss: 0.0033 - val_loss: 0.0021\n",
            "Epoch 76/100\n",
            "30/30 [==============================] - 4s 117ms/step - loss: 0.0035 - val_loss: 0.0010\n",
            "Epoch 77/100\n",
            "30/30 [==============================] - 4s 118ms/step - loss: 0.0032 - val_loss: 0.0023\n",
            "Epoch 78/100\n",
            "30/30 [==============================] - 4s 118ms/step - loss: 0.0032 - val_loss: 0.0013\n",
            "Epoch 79/100\n",
            "30/30 [==============================] - 4s 119ms/step - loss: 0.0031 - val_loss: 0.0013\n",
            "Epoch 80/100\n",
            "30/30 [==============================] - 3s 116ms/step - loss: 0.0035 - val_loss: 0.0018\n",
            "Epoch 81/100\n",
            "30/30 [==============================] - 4s 118ms/step - loss: 0.0030 - val_loss: 0.0017\n",
            "Epoch 82/100\n",
            "30/30 [==============================] - 4s 117ms/step - loss: 0.0035 - val_loss: 9.1934e-04\n",
            "Epoch 83/100\n",
            "30/30 [==============================] - 4s 118ms/step - loss: 0.0032 - val_loss: 0.0030\n",
            "Epoch 84/100\n",
            "30/30 [==============================] - 4s 117ms/step - loss: 0.0039 - val_loss: 0.0015\n",
            "Epoch 85/100\n",
            "30/30 [==============================] - 3s 116ms/step - loss: 0.0043 - val_loss: 8.2466e-04\n",
            "Epoch 86/100\n",
            "30/30 [==============================] - 3s 116ms/step - loss: 0.0034 - val_loss: 6.4598e-04\n",
            "Epoch 87/100\n",
            "30/30 [==============================] - 3s 117ms/step - loss: 0.0044 - val_loss: 0.0014\n",
            "Epoch 88/100\n",
            "30/30 [==============================] - 3s 116ms/step - loss: 0.0059 - val_loss: 5.8162e-04\n",
            "Epoch 89/100\n",
            "30/30 [==============================] - 4s 117ms/step - loss: 0.0045 - val_loss: 0.0043\n",
            "Epoch 90/100\n",
            "30/30 [==============================] - 3s 116ms/step - loss: 0.0046 - val_loss: 8.9515e-04\n",
            "Epoch 91/100\n",
            "30/30 [==============================] - 4s 117ms/step - loss: 0.0034 - val_loss: 7.2027e-04\n",
            "Epoch 92/100\n",
            "30/30 [==============================] - 3s 115ms/step - loss: 0.0038 - val_loss: 6.8400e-04\n",
            "Epoch 93/100\n",
            "30/30 [==============================] - 4s 118ms/step - loss: 0.0056 - val_loss: 0.0032\n",
            "Epoch 94/100\n",
            "30/30 [==============================] - 4s 117ms/step - loss: 0.0054 - val_loss: 0.0012\n",
            "Epoch 95/100\n",
            "30/30 [==============================] - 4s 118ms/step - loss: 0.0032 - val_loss: 9.1274e-04\n",
            "Epoch 96/100\n",
            "30/30 [==============================] - 4s 119ms/step - loss: 0.0045 - val_loss: 0.0012\n",
            "Epoch 97/100\n",
            "30/30 [==============================] - 4s 118ms/step - loss: 0.0043 - val_loss: 0.0019\n",
            "Epoch 98/100\n",
            "30/30 [==============================] - 3s 117ms/step - loss: 0.0047 - val_loss: 0.0017\n",
            "Epoch 99/100\n",
            "30/30 [==============================] - 3s 116ms/step - loss: 0.0039 - val_loss: 8.8564e-04\n",
            "Epoch 100/100\n",
            "30/30 [==============================] - 4s 117ms/step - loss: 0.0045 - val_loss: 9.2376e-04\n"
          ]
        },
        {
          "output_type": "execute_result",
          "data": {
            "text/plain": [
              "<keras.callbacks.History at 0x7facb77f1690>"
            ]
          },
          "metadata": {},
          "execution_count": 26
        }
      ]
    },
    {
      "cell_type": "code",
      "source": [
        "# Load in best version of model 5 and evaluate on the test data\n",
        "model_save = tf.keras.models.load_model(\"model_experiments/sequential/\")\n",
        "model_save.evaluate(test_windows, test_labels)"
      ],
      "metadata": {
        "colab": {
          "base_uri": "https://localhost:8080/"
        },
        "id": "xNfHkkjQzHk8",
        "outputId": "7eb93315-5805-47aa-b836-e1d14bbd0263"
      },
      "execution_count": null,
      "outputs": [
        {
          "output_type": "stream",
          "name": "stdout",
          "text": [
            "8/8 [==============================] - 1s 37ms/step - loss: 5.3742e-04\n"
          ]
        },
        {
          "output_type": "execute_result",
          "data": {
            "text/plain": [
              "0.0005374207976274192"
            ]
          },
          "metadata": {},
          "execution_count": 27
        }
      ]
    },
    {
      "cell_type": "markdown",
      "source": [
        "## Evaluate The Model with Dataset Test"
      ],
      "metadata": {
        "id": "-eSf8EHB2AOZ"
      }
    },
    {
      "cell_type": "code",
      "source": [
        "# Making the predictions and visualising the results\n",
        "# Getting the real stock price of 2017\n",
        "dataset_test = pd.read_csv('Google_Stock_Price_Test.csv',index_col=\"Date\",parse_dates=True)"
      ],
      "metadata": {
        "execution": {
          "iopub.status.busy": "2021-12-31T14:48:14.914787Z",
          "iopub.execute_input": "2021-12-31T14:48:14.915089Z",
          "iopub.status.idle": "2021-12-31T14:48:14.933152Z",
          "shell.execute_reply.started": "2021-12-31T14:48:14.915056Z",
          "shell.execute_reply": "2021-12-31T14:48:14.932433Z"
        },
        "trusted": true,
        "id": "YY1jzgAJbaK_"
      },
      "execution_count": null,
      "outputs": []
    },
    {
      "cell_type": "code",
      "source": [
        "real_stock_price = dataset_test.iloc[:, 1:2].values"
      ],
      "metadata": {
        "execution": {
          "iopub.status.busy": "2021-12-31T14:48:14.934777Z",
          "iopub.execute_input": "2021-12-31T14:48:14.935248Z",
          "iopub.status.idle": "2021-12-31T14:48:14.943925Z",
          "shell.execute_reply.started": "2021-12-31T14:48:14.935208Z",
          "shell.execute_reply": "2021-12-31T14:48:14.94287Z"
        },
        "trusted": true,
        "id": "lpCnXKbFbaLA"
      },
      "execution_count": null,
      "outputs": []
    },
    {
      "cell_type": "code",
      "source": [
        "dataset_test[\"Volume\"] = dataset_test[\"Volume\"].str.replace(',', '').astype(float)"
      ],
      "metadata": {
        "execution": {
          "iopub.status.busy": "2021-12-31T14:48:14.991426Z",
          "iopub.execute_input": "2021-12-31T14:48:14.992258Z",
          "iopub.status.idle": "2021-12-31T14:48:14.998345Z",
          "shell.execute_reply.started": "2021-12-31T14:48:14.992209Z",
          "shell.execute_reply": "2021-12-31T14:48:14.997407Z"
        },
        "trusted": true,
        "id": "WIDgUe-DbaLA"
      },
      "execution_count": null,
      "outputs": []
    },
    {
      "cell_type": "code",
      "source": [
        "#dataset_test head\n",
        "dataset_test.head()"
      ],
      "metadata": {
        "colab": {
          "base_uri": "https://localhost:8080/",
          "height": 238
        },
        "id": "dzk7_JpQ2bDu",
        "outputId": "5fedef03-d3e9-42a4-bfa8-0eca14d202e6"
      },
      "execution_count": null,
      "outputs": [
        {
          "output_type": "execute_result",
          "data": {
            "text/plain": [
              "              Open    High     Low   Close     Volume\n",
              "Date                                                 \n",
              "2017-01-03  778.81  789.63  775.80  786.14  1657300.0\n",
              "2017-01-04  788.36  791.34  783.16  786.90  1073000.0\n",
              "2017-01-05  786.08  794.48  785.02  794.02  1335200.0\n",
              "2017-01-06  795.26  807.90  792.20  806.15  1640200.0\n",
              "2017-01-09  806.40  809.97  802.83  806.65  1272400.0"
            ],
            "text/html": [
              "\n",
              "  <div id=\"df-207556d3-71a7-47ff-b866-64a2cc236ad6\">\n",
              "    <div class=\"colab-df-container\">\n",
              "      <div>\n",
              "<style scoped>\n",
              "    .dataframe tbody tr th:only-of-type {\n",
              "        vertical-align: middle;\n",
              "    }\n",
              "\n",
              "    .dataframe tbody tr th {\n",
              "        vertical-align: top;\n",
              "    }\n",
              "\n",
              "    .dataframe thead th {\n",
              "        text-align: right;\n",
              "    }\n",
              "</style>\n",
              "<table border=\"1\" class=\"dataframe\">\n",
              "  <thead>\n",
              "    <tr style=\"text-align: right;\">\n",
              "      <th></th>\n",
              "      <th>Open</th>\n",
              "      <th>High</th>\n",
              "      <th>Low</th>\n",
              "      <th>Close</th>\n",
              "      <th>Volume</th>\n",
              "    </tr>\n",
              "    <tr>\n",
              "      <th>Date</th>\n",
              "      <th></th>\n",
              "      <th></th>\n",
              "      <th></th>\n",
              "      <th></th>\n",
              "      <th></th>\n",
              "    </tr>\n",
              "  </thead>\n",
              "  <tbody>\n",
              "    <tr>\n",
              "      <th>2017-01-03</th>\n",
              "      <td>778.81</td>\n",
              "      <td>789.63</td>\n",
              "      <td>775.80</td>\n",
              "      <td>786.14</td>\n",
              "      <td>1657300.0</td>\n",
              "    </tr>\n",
              "    <tr>\n",
              "      <th>2017-01-04</th>\n",
              "      <td>788.36</td>\n",
              "      <td>791.34</td>\n",
              "      <td>783.16</td>\n",
              "      <td>786.90</td>\n",
              "      <td>1073000.0</td>\n",
              "    </tr>\n",
              "    <tr>\n",
              "      <th>2017-01-05</th>\n",
              "      <td>786.08</td>\n",
              "      <td>794.48</td>\n",
              "      <td>785.02</td>\n",
              "      <td>794.02</td>\n",
              "      <td>1335200.0</td>\n",
              "    </tr>\n",
              "    <tr>\n",
              "      <th>2017-01-06</th>\n",
              "      <td>795.26</td>\n",
              "      <td>807.90</td>\n",
              "      <td>792.20</td>\n",
              "      <td>806.15</td>\n",
              "      <td>1640200.0</td>\n",
              "    </tr>\n",
              "    <tr>\n",
              "      <th>2017-01-09</th>\n",
              "      <td>806.40</td>\n",
              "      <td>809.97</td>\n",
              "      <td>802.83</td>\n",
              "      <td>806.65</td>\n",
              "      <td>1272400.0</td>\n",
              "    </tr>\n",
              "  </tbody>\n",
              "</table>\n",
              "</div>\n",
              "      <button class=\"colab-df-convert\" onclick=\"convertToInteractive('df-207556d3-71a7-47ff-b866-64a2cc236ad6')\"\n",
              "              title=\"Convert this dataframe to an interactive table.\"\n",
              "              style=\"display:none;\">\n",
              "        \n",
              "  <svg xmlns=\"http://www.w3.org/2000/svg\" height=\"24px\"viewBox=\"0 0 24 24\"\n",
              "       width=\"24px\">\n",
              "    <path d=\"M0 0h24v24H0V0z\" fill=\"none\"/>\n",
              "    <path d=\"M18.56 5.44l.94 2.06.94-2.06 2.06-.94-2.06-.94-.94-2.06-.94 2.06-2.06.94zm-11 1L8.5 8.5l.94-2.06 2.06-.94-2.06-.94L8.5 2.5l-.94 2.06-2.06.94zm10 10l.94 2.06.94-2.06 2.06-.94-2.06-.94-.94-2.06-.94 2.06-2.06.94z\"/><path d=\"M17.41 7.96l-1.37-1.37c-.4-.4-.92-.59-1.43-.59-.52 0-1.04.2-1.43.59L10.3 9.45l-7.72 7.72c-.78.78-.78 2.05 0 2.83L4 21.41c.39.39.9.59 1.41.59.51 0 1.02-.2 1.41-.59l7.78-7.78 2.81-2.81c.8-.78.8-2.07 0-2.86zM5.41 20L4 18.59l7.72-7.72 1.47 1.35L5.41 20z\"/>\n",
              "  </svg>\n",
              "      </button>\n",
              "      \n",
              "  <style>\n",
              "    .colab-df-container {\n",
              "      display:flex;\n",
              "      flex-wrap:wrap;\n",
              "      gap: 12px;\n",
              "    }\n",
              "\n",
              "    .colab-df-convert {\n",
              "      background-color: #E8F0FE;\n",
              "      border: none;\n",
              "      border-radius: 50%;\n",
              "      cursor: pointer;\n",
              "      display: none;\n",
              "      fill: #1967D2;\n",
              "      height: 32px;\n",
              "      padding: 0 0 0 0;\n",
              "      width: 32px;\n",
              "    }\n",
              "\n",
              "    .colab-df-convert:hover {\n",
              "      background-color: #E2EBFA;\n",
              "      box-shadow: 0px 1px 2px rgba(60, 64, 67, 0.3), 0px 1px 3px 1px rgba(60, 64, 67, 0.15);\n",
              "      fill: #174EA6;\n",
              "    }\n",
              "\n",
              "    [theme=dark] .colab-df-convert {\n",
              "      background-color: #3B4455;\n",
              "      fill: #D2E3FC;\n",
              "    }\n",
              "\n",
              "    [theme=dark] .colab-df-convert:hover {\n",
              "      background-color: #434B5C;\n",
              "      box-shadow: 0px 1px 3px 1px rgba(0, 0, 0, 0.15);\n",
              "      filter: drop-shadow(0px 1px 2px rgba(0, 0, 0, 0.3));\n",
              "      fill: #FFFFFF;\n",
              "    }\n",
              "  </style>\n",
              "\n",
              "      <script>\n",
              "        const buttonEl =\n",
              "          document.querySelector('#df-207556d3-71a7-47ff-b866-64a2cc236ad6 button.colab-df-convert');\n",
              "        buttonEl.style.display =\n",
              "          google.colab.kernel.accessAllowed ? 'block' : 'none';\n",
              "\n",
              "        async function convertToInteractive(key) {\n",
              "          const element = document.querySelector('#df-207556d3-71a7-47ff-b866-64a2cc236ad6');\n",
              "          const dataTable =\n",
              "            await google.colab.kernel.invokeFunction('convertToInteractive',\n",
              "                                                     [key], {});\n",
              "          if (!dataTable) return;\n",
              "\n",
              "          const docLinkHtml = 'Like what you see? Visit the ' +\n",
              "            '<a target=\"_blank\" href=https://colab.research.google.com/notebooks/data_table.ipynb>data table notebook</a>'\n",
              "            + ' to learn more about interactive tables.';\n",
              "          element.innerHTML = '';\n",
              "          dataTable['output_type'] = 'display_data';\n",
              "          await google.colab.output.renderOutput(dataTable, element);\n",
              "          const docLink = document.createElement('div');\n",
              "          docLink.innerHTML = docLinkHtml;\n",
              "          element.appendChild(docLink);\n",
              "        }\n",
              "      </script>\n",
              "    </div>\n",
              "  </div>\n",
              "  "
            ]
          },
          "metadata": {},
          "execution_count": 31
        }
      ]
    },
    {
      "cell_type": "code",
      "source": [
        "test_set=dataset_test['Open']\n",
        "test_set=pd.DataFrame(test_set)"
      ],
      "metadata": {
        "execution": {
          "iopub.status.busy": "2021-12-31T14:48:14.999507Z",
          "iopub.execute_input": "2021-12-31T14:48:15.000237Z",
          "iopub.status.idle": "2021-12-31T14:48:15.017831Z",
          "shell.execute_reply.started": "2021-12-31T14:48:15.000203Z",
          "shell.execute_reply": "2021-12-31T14:48:15.016702Z"
        },
        "trusted": true,
        "id": "WzYa7xURbaLB"
      },
      "execution_count": null,
      "outputs": []
    },
    {
      "cell_type": "code",
      "source": [
        "#data test information\n",
        "test_set.info()"
      ],
      "metadata": {
        "execution": {
          "iopub.status.busy": "2021-12-31T14:48:15.019256Z",
          "iopub.execute_input": "2021-12-31T14:48:15.01964Z",
          "iopub.status.idle": "2021-12-31T14:48:15.036609Z",
          "shell.execute_reply.started": "2021-12-31T14:48:15.019605Z",
          "shell.execute_reply": "2021-12-31T14:48:15.035924Z"
        },
        "trusted": true,
        "id": "PcruOHHqbaLB",
        "colab": {
          "base_uri": "https://localhost:8080/"
        },
        "outputId": "cb26c063-5140-4d7d-c80e-c537b3518edc"
      },
      "execution_count": null,
      "outputs": [
        {
          "output_type": "stream",
          "name": "stdout",
          "text": [
            "<class 'pandas.core.frame.DataFrame'>\n",
            "DatetimeIndex: 20 entries, 2017-01-03 to 2017-01-31\n",
            "Data columns (total 1 columns):\n",
            " #   Column  Non-Null Count  Dtype  \n",
            "---  ------  --------------  -----  \n",
            " 0   Open    20 non-null     float64\n",
            "dtypes: float64(1)\n",
            "memory usage: 320.0 bytes\n"
          ]
        }
      ]
    },
    {
      "cell_type": "code",
      "source": [
        "# Getting the predicted stock price of 2017\n",
        "dataset_total = pd.concat((dataset['Open'], dataset_test['Open']), axis = 0)\n",
        "inputs = dataset_total[len(dataset_total) - len(dataset_test) - 60:].values\n",
        "inputs = inputs.reshape(-1,1)\n",
        "inputs = sc.transform(inputs)\n",
        "X_test = []\n",
        "for i in range(60, 80):\n",
        "    X_test.append(inputs[i-60:i, 0])\n",
        "X_test = np.array(X_test)\n",
        "X_test = np.reshape(X_test, (X_test.shape[0], X_test.shape[1], 1))\n",
        "predicted_stock_price = model_save.predict(X_test)\n",
        "predicted_stock_price = sc.inverse_transform(predicted_stock_price)"
      ],
      "metadata": {
        "execution": {
          "iopub.status.busy": "2021-12-31T14:48:15.038307Z",
          "iopub.execute_input": "2021-12-31T14:48:15.038737Z",
          "iopub.status.idle": "2021-12-31T14:48:16.799857Z",
          "shell.execute_reply.started": "2021-12-31T14:48:15.038704Z",
          "shell.execute_reply": "2021-12-31T14:48:16.799182Z"
        },
        "trusted": true,
        "id": "WKSGk59LbaLC",
        "colab": {
          "base_uri": "https://localhost:8080/"
        },
        "outputId": "bc5d117b-e054-4b4b-be49-088fbbe9f8de"
      },
      "execution_count": null,
      "outputs": [
        {
          "output_type": "stream",
          "name": "stderr",
          "text": [
            "/usr/local/lib/python3.7/dist-packages/sklearn/base.py:451: UserWarning: X does not have valid feature names, but MinMaxScaler was fitted with feature names\n",
            "  \"X does not have valid feature names, but\"\n"
          ]
        }
      ]
    },
    {
      "cell_type": "code",
      "source": [
        "predicted_stock_price=pd.DataFrame(predicted_stock_price)\n",
        "predicted_stock_price.info()"
      ],
      "metadata": {
        "execution": {
          "iopub.status.busy": "2021-12-31T14:48:16.801357Z",
          "iopub.execute_input": "2021-12-31T14:48:16.801787Z",
          "iopub.status.idle": "2021-12-31T14:48:16.813977Z",
          "shell.execute_reply.started": "2021-12-31T14:48:16.801755Z",
          "shell.execute_reply": "2021-12-31T14:48:16.812756Z"
        },
        "trusted": true,
        "id": "KBDqv8A9baLC",
        "colab": {
          "base_uri": "https://localhost:8080/"
        },
        "outputId": "db4355eb-1398-4eaf-e716-932760ba2776"
      },
      "execution_count": null,
      "outputs": [
        {
          "output_type": "stream",
          "name": "stdout",
          "text": [
            "<class 'pandas.core.frame.DataFrame'>\n",
            "RangeIndex: 20 entries, 0 to 19\n",
            "Data columns (total 1 columns):\n",
            " #   Column  Non-Null Count  Dtype  \n",
            "---  ------  --------------  -----  \n",
            " 0   0       20 non-null     float32\n",
            "dtypes: float32(1)\n",
            "memory usage: 208.0 bytes\n"
          ]
        }
      ]
    },
    {
      "cell_type": "code",
      "source": [
        "# Visualising the results\n",
        "plt.plot(real_stock_price, color = 'red', label = 'Real Google Stock Price')\n",
        "plt.plot(predicted_stock_price, color = 'blue', label = 'Predicted Google Stock Price')\n",
        "plt.title('Google Stock Price Prediction')\n",
        "plt.xlabel('Time')\n",
        "plt.ylabel('Google Stock Price')\n",
        "plt.legend()\n",
        "plt.show()\n"
      ],
      "metadata": {
        "execution": {
          "iopub.status.busy": "2021-12-31T14:48:16.81709Z",
          "iopub.execute_input": "2021-12-31T14:48:16.817608Z",
          "iopub.status.idle": "2021-12-31T14:48:17.101431Z",
          "shell.execute_reply.started": "2021-12-31T14:48:16.817559Z",
          "shell.execute_reply": "2021-12-31T14:48:17.100372Z"
        },
        "trusted": true,
        "id": "eDZyX3IybaLC",
        "colab": {
          "base_uri": "https://localhost:8080/",
          "height": 295
        },
        "outputId": "5d633e86-6fd6-41cd-fb13-06b2ddc90bbe"
      },
      "execution_count": null,
      "outputs": [
        {
          "output_type": "display_data",
          "data": {
            "text/plain": [
              "<Figure size 432x288 with 1 Axes>"
            ],
            "image/png": "[encoded data removed]"
          },
          "metadata": {
            "needs_background": "light"
          }
        }
      ]
    },
    {
      "cell_type": "code",
      "source": [
        "def evaluate_preds(y_true, y_pred):\n",
        "  # Make the metric calculations\n",
        "  y_true = tf.cast(y_true, dtype=tf.float32)\n",
        "  y_pred = tf.cast(y_pred, dtype=tf.float32)\n",
        "\n",
        "  # Calculate various metrics\n",
        "  mae = tf.keras.metrics.mean_absolute_error(y_true, y_pred)\n",
        "  mse = tf.keras.metrics.mean_squared_error(y_true, y_pred)\n",
        "  rmse = tf.sqrt(mse)\n",
        "  mape = tf.keras.metrics.mean_absolute_percentage_error(y_true, y_pred)\n",
        "\n",
        "  # Account for different sized metrics\n",
        "  if mae.ndim > 0: # if mae isn't already a scalar, reduce it to one by aggregating tensors to mean\n",
        "    mae = tf.reduce_mean(mae)\n",
        "    mse = tf.reduce_mean(mse)\n",
        "    rmse = tf.reduce_mean(rmse)\n",
        "    mape = tf.reduce_mean(mape)\n",
        "\n",
        "  return {\"mae\": mae.numpy(),\n",
        "          \"mse\": mse.numpy(),\n",
        "          \"rmse\": rmse.numpy(),\n",
        "          \"mape\": mape.numpy()\n",
        "          }"
      ],
      "metadata": {
        "id": "uR4sZjQd4moA"
      },
      "execution_count": null,
      "outputs": []
    },
    {
      "cell_type": "code",
      "source": [
        "#evaluate prediction resul\n",
        "evaluate_preds(y_true = real_stock_price, y_pred= predicted_stock_price)"
      ],
      "metadata": {
        "colab": {
          "base_uri": "https://localhost:8080/"
        },
        "id": "_sTkseqp4wn3",
        "outputId": "3bb89db1-fc48-4f34-bd82-5296863d0d49"
      },
      "execution_count": null,
      "outputs": [
        {
          "output_type": "execute_result",
          "data": {
            "text/plain": [
              "{'mae': 10.729792, 'mape': 1.3141121, 'mse': 176.88316, 'rmse': 10.729792}"
            ]
          },
          "metadata": {},
          "execution_count": 39
        }
      ]
    },
    {
      "cell_type": "code",
      "source": [
        "model.save('Google_Stock_Forecasting_LSTM.h5')"
      ],
      "metadata": {
        "id": "9gBeIZsbvBec"
      },
      "execution_count": null,
      "outputs": []
    },
    {
      "cell_type": "code",
      "source": [],
      "metadata": {
        "id": "Uf2Q6xaJ4338"
      },
      "execution_count": null,
      "outputs": []
    }
  ]
}